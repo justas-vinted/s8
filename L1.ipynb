{
  "nbformat": 4,
  "nbformat_minor": 0,
  "metadata": {
    "colab": {
      "name": "L1",
      "version": "0.3.2",
      "provenance": [],
      "include_colab_link": true
    },
    "kernelspec": {
      "name": "python3",
      "display_name": "Python 3"
    },
    "accelerator": "GPU"
  },
  "cells": [
    {
      "cell_type": "markdown",
      "metadata": {
        "id": "view-in-github",
        "colab_type": "text"
      },
      "source": [
        "<a href=\"https://colab.research.google.com/github/justas-vinted/s8/blob/master/L1.ipynb\" target=\"_parent\"><img src=\"https://colab.research.google.com/assets/colab-badge.svg\" alt=\"Open In Colab\"/></a>"
      ]
    },
    {
      "cell_type": "code",
      "metadata": {
        "id": "dgBGorayZGDe",
        "colab_type": "code",
        "colab": {
          "base_uri": "https://localhost:8080/",
          "height": 224
        },
        "outputId": "1ed05845-9492-446b-8efa-ff772fa5efa8"
      },
      "source": [
        "!pip install --upgrade git+https://github.com/justas-vinted/jstai\n",
        "!pip install tensorboardcolab\n",
        "from jstai.colab import install_packages, copy_kaggle_json"
      ],
      "execution_count": 1,
      "outputs": [
        {
          "output_type": "stream",
          "text": [
            "Collecting git+https://github.com/justas-vinted/jstai\n",
            "  Cloning https://github.com/justas-vinted/jstai to /tmp/pip-req-build-ck7dyme7\n",
            "  Running command git clone -q https://github.com/justas-vinted/jstai /tmp/pip-req-build-ck7dyme7\n",
            "Building wheels for collected packages: jst.dbr\n",
            "  Building wheel for jst.dbr (setup.py) ... \u001b[?25l\u001b[?25hdone\n",
            "  Created wheel for jst.dbr: filename=jst.dbr-0.0.3-cp36-none-any.whl size=5035 sha256=582bc2f53beb3844d350c73f3c7571a0af23b7a89d133da9fece0ffa849f6b18\n",
            "  Stored in directory: /tmp/pip-ephem-wheel-cache-y2ymtyit/wheels/86/c1/01/60b70f85d61e67a5da4a0d16e872239932784e361f39167858\n",
            "Successfully built jst.dbr\n",
            "Installing collected packages: jst.dbr\n",
            "Successfully installed jst.dbr-0.0.3\n",
            "Requirement already satisfied: tensorboardcolab in /usr/local/lib/python3.6/dist-packages (0.0.22)\n"
          ],
          "name": "stdout"
        }
      ]
    },
    {
      "cell_type": "code",
      "metadata": {
        "id": "pNuAg9-5Z3wn",
        "colab_type": "code",
        "colab": {
          "base_uri": "https://localhost:8080/",
          "height": 85
        },
        "outputId": "b0f304c1-890a-4690-eecc-a98bbd6138ec"
      },
      "source": [
        "install_packages()"
      ],
      "execution_count": 2,
      "outputs": [
        {
          "output_type": "stream",
          "text": [
            "Installing tensorflow-gpu==2.0.0-beta1\n",
            "Installing toai-mokahaiku\n",
            "Installing kaggle\n",
            "Done.\n"
          ],
          "name": "stdout"
        }
      ]
    },
    {
      "cell_type": "code",
      "metadata": {
        "id": "bzWcCPzOaA4n",
        "colab_type": "code",
        "colab": {}
      },
      "source": [
        "copy_kaggle_json()"
      ],
      "execution_count": 0,
      "outputs": []
    },
    {
      "cell_type": "code",
      "metadata": {
        "id": "hR_ZE7N4aC4G",
        "colab_type": "code",
        "colab": {
          "base_uri": "https://localhost:8080/",
          "height": 71
        },
        "outputId": "d867aa8f-984e-49c8-b243-c49fe5182cef"
      },
      "source": [
        "from toai.imports import *\n",
        "import tensorflow as tf\n",
        "from tensorflow import keras"
      ],
      "execution_count": 5,
      "outputs": [
        {
          "output_type": "stream",
          "text": [
            "/usr/local/lib/python3.6/dist-packages/sklearn/externals/joblib/__init__.py:15: DeprecationWarning: sklearn.externals.joblib is deprecated in 0.21 and will be removed in 0.23. Please import this functionality directly from joblib, which can be installed with: pip install joblib. If this warning is raised when loading pickled models, you may need to re-serialize those models with scikit-learn 0.21+.\n",
            "  warnings.warn(msg, category=DeprecationWarning)\n"
          ],
          "name": "stderr"
        }
      ]
    },
    {
      "cell_type": "code",
      "metadata": {
        "id": "SkeVk57ydEcT",
        "colab_type": "code",
        "colab": {}
      },
      "source": [
        "DATA_DIR = Path('data/')\n",
        "TEMP_DIR = Path('temp/')"
      ],
      "execution_count": 0,
      "outputs": []
    },
    {
      "cell_type": "code",
      "metadata": {
        "id": "JYrPWZQMdM7G",
        "colab_type": "code",
        "colab": {}
      },
      "source": [
        "DATA_DIR.mkdir(parents=True, exist_ok=True)\n",
        "TEMP_DIR.mkdir(parents=True, exist_ok=True)"
      ],
      "execution_count": 0,
      "outputs": []
    },
    {
      "cell_type": "code",
      "metadata": {
        "id": "N9qkHFosdPD1",
        "colab_type": "code",
        "colab": {
          "base_uri": "https://localhost:8080/",
          "height": 68
        },
        "outputId": "b04339c2-fed9-44b5-d300-7ab47f9942bc"
      },
      "source": [
        "!kaggle datasets download -d vermaavi/food11 --unzip -p {DATA_DIR}"
      ],
      "execution_count": 8,
      "outputs": [
        {
          "output_type": "stream",
          "text": [
            "Downloading food11.zip to data\n",
            " 99% 1.07G/1.08G [00:11<00:00, 114MB/s] \n",
            "100% 1.08G/1.08G [00:11<00:00, 98.8MB/s]\n"
          ],
          "name": "stdout"
        }
      ]
    },
    {
      "cell_type": "code",
      "metadata": {
        "id": "YQ6Ymex9dawE",
        "colab_type": "code",
        "colab": {}
      },
      "source": [
        ""
      ],
      "execution_count": 0,
      "outputs": []
    }
  ]
}