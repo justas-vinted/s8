{
  "nbformat": 4,
  "nbformat_minor": 0,
  "metadata": {
    "colab": {
      "name": "L1",
      "version": "0.3.2",
      "provenance": [],
      "include_colab_link": true
    },
    "kernelspec": {
      "name": "python3",
      "display_name": "Python 3"
    }
  },
  "cells": [
    {
      "cell_type": "markdown",
      "metadata": {
        "id": "view-in-github",
        "colab_type": "text"
      },
      "source": [
        "<a href=\"https://colab.research.google.com/github/justas-vinted/s8/blob/master/L1.ipynb\" target=\"_parent\"><img src=\"https://colab.research.google.com/assets/colab-badge.svg\" alt=\"Open In Colab\"/></a>"
      ]
    },
    {
      "cell_type": "code",
      "metadata": {
        "id": "dgBGorayZGDe",
        "colab_type": "code",
        "colab": {
          "base_uri": "https://localhost:8080/",
          "height": 224
        },
        "outputId": "a2cbef32-be87-433a-e34a-93583ae6f0ed"
      },
      "source": [
        "!pip install --upgrade git+https://github.com/justas-vinted/jstai\n",
        "!pip install tensorboardcolab\n",
        "from jstai.colab import install_packages, copy_kaggle_json"
      ],
      "execution_count": 1,
      "outputs": [
        {
          "output_type": "stream",
          "text": [
            "Collecting git+https://github.com/justas-vinted/jstai\n",
            "  Cloning https://github.com/justas-vinted/jstai to /tmp/pip-req-build-iep3g3a6\n",
            "  Running command git clone -q https://github.com/justas-vinted/jstai /tmp/pip-req-build-iep3g3a6\n",
            "Building wheels for collected packages: jst.dbr\n",
            "  Building wheel for jst.dbr (setup.py) ... \u001b[?25l\u001b[?25hdone\n",
            "  Created wheel for jst.dbr: filename=jst.dbr-0.0.3-cp36-none-any.whl size=5035 sha256=d81c1aa6a170a2c0b8ab7a8aecc7dcf1fafd48d8f999bd16196f6e63be2f4291\n",
            "  Stored in directory: /tmp/pip-ephem-wheel-cache-u3g11c86/wheels/86/c1/01/60b70f85d61e67a5da4a0d16e872239932784e361f39167858\n",
            "Successfully built jst.dbr\n",
            "Installing collected packages: jst.dbr\n",
            "Successfully installed jst.dbr-0.0.3\n",
            "Requirement already satisfied: tensorboardcolab in /usr/local/lib/python3.6/dist-packages (0.0.22)\n"
          ],
          "name": "stdout"
        }
      ]
    },
    {
      "cell_type": "code",
      "metadata": {
        "id": "F4kYWNDHZpsZ",
        "colab_type": "code",
        "colab": {}
      },
      "source": [
        ""
      ],
      "execution_count": 0,
      "outputs": []
    }
  ]
}